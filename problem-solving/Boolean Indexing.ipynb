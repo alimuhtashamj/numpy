{
 "cells": [
  {
   "cell_type": "markdown",
   "metadata": {},
   "source": [
    "<h2>Problem Statement:</h2>\n",
    "Given a NumPy array of integers, return an array of unique elements in sorted order."
   ]
  },
  {
   "cell_type": "code",
   "execution_count": 3,
   "metadata": {},
   "outputs": [
    {
     "data": {
      "text/plain": [
       "array([1, 2, 3, 4, 8])"
      ]
     },
     "execution_count": 3,
     "metadata": {},
     "output_type": "execute_result"
    }
   ],
   "source": [
    "import numpy as np\n",
    "arr = np.array([4, 2, 2, 8, 4, 3, 3, 1])\n",
    "np.unique(arr)"
   ]
  },
  {
   "cell_type": "markdown",
   "metadata": {},
   "source": [
    "<h2>Problem Statement:</h2>\n",
    "Given a NumPy array, replace all values greater than twice the mean with the mean itself."
   ]
  },
  {
   "cell_type": "markdown",
   "metadata": {},
   "source": [
    "<h3 style=\"color: Brown;\">Modifying Elements Using Boolean Indexing:</h3>\n",
    "<h5 style=\"color: blue;\">arr[arr > ___ ]</h5>\n",
    "\n"
   ]
  },
  {
   "cell_type": "code",
   "execution_count": 16,
   "metadata": {},
   "outputs": [
    {
     "name": "stdout",
     "output_type": "stream",
     "text": [
      "[ 1  2  3 45  5  6 45]\n"
     ]
    }
   ],
   "source": [
    "import numpy as np\n",
    "\n",
    "arr = np.array([1, 2, 3, 100, 5, 6, 200])\n",
    "mean_value = np.mean(arr)\n",
    "for i in range(len(arr)):\n",
    "    if arr[i] > mean_value:\n",
    "      arr[i] = mean_value\n",
    "print(arr)"
   ]
  },
  {
   "cell_type": "code",
   "execution_count": 19,
   "metadata": {},
   "outputs": [
    {
     "name": "stdout",
     "output_type": "stream",
     "text": [
      "[ 1  2  3 45  5  6 45]\n"
     ]
    }
   ],
   "source": [
    "arr = np.array([1, 2, 3, 100, 5, 6, 200])\n",
    "mean_value = np.mean(arr)\n",
    "for idx, value in enumerate(arr):\n",
    "    if value > mean_value:\n",
    "        arr[idx] = mean_value\n",
    "print(arr)\n",
    "\n"
   ]
  },
  {
   "cell_type": "code",
   "execution_count": 17,
   "metadata": {},
   "outputs": [
    {
     "name": "stdout",
     "output_type": "stream",
     "text": [
      "[ 1  2  3 45  5  6 45]\n"
     ]
    }
   ],
   "source": [
    "arr = np.array([1, 2, 3, 100, 5, 6, 200])\n",
    "mean_value = np.mean(arr)\n",
    "threshold = mean_value * 2 \n",
    "arr[arr > threshold] = mean_value \n",
    "print(arr)"
   ]
  },
  {
   "cell_type": "code",
   "execution_count": 18,
   "metadata": {},
   "outputs": [
    {
     "name": "stdout",
     "output_type": "stream",
     "text": [
      "[ 1  2 10 10 10]\n"
     ]
    }
   ],
   "source": [
    "arr = np.array([1, 2, 3, 4, 5])\n",
    "arr[arr > 2] = 10  # Replace elements > 2 with 10\n",
    "print(arr)"
   ]
  }
 ],
 "metadata": {
  "kernelspec": {
   "display_name": "base",
   "language": "python",
   "name": "python3"
  },
  "language_info": {
   "codemirror_mode": {
    "name": "ipython",
    "version": 3
   },
   "file_extension": ".py",
   "mimetype": "text/x-python",
   "name": "python",
   "nbconvert_exporter": "python",
   "pygments_lexer": "ipython3",
   "version": "3.12.7"
  }
 },
 "nbformat": 4,
 "nbformat_minor": 2
}
