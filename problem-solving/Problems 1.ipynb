{
 "cells": [
  {
   "cell_type": "code",
   "execution_count": 4,
   "metadata": {},
   "outputs": [
    {
     "name": "stdout",
     "output_type": "stream",
     "text": [
      "[2 4 6 8]\n"
     ]
    }
   ],
   "source": [
    "import numpy as np\n",
    "arr = np.array([1, 2, 3, 4, 5, 6, 7, 8])\n",
    "even = arr[arr % 2 == 0]\n",
    "print(even)\n"
   ]
  },
  {
   "cell_type": "code",
   "execution_count": 12,
   "metadata": {},
   "outputs": [
    {
     "name": "stdout",
     "output_type": "stream",
     "text": [
      "[[19 22]\n",
      " [43 50]]\n",
      "[[1 2]\n",
      " [3 4]\n",
      " [5 6]\n",
      " [7 8]]\n",
      "[[1 2 5 6]\n",
      " [3 4 7 8]]\n"
     ]
    }
   ],
   "source": [
    "a = np.array([[1, 2], [3, 4]])\n",
    "b = np.array([[5, 6], [7, 8]])\n",
    "product = np.dot(a,b)\n",
    "vertical_stack = np.vstack((a,b))\n",
    "hori_stack = np.hstack((a,b))\n",
    "print(product)\n",
    "\n",
    "\n",
    "print(vertical_stack)\n",
    "print(hori_stack)"
   ]
  },
  {
   "cell_type": "code",
   "execution_count": 20,
   "metadata": {},
   "outputs": [
    {
     "name": "stdout",
     "output_type": "stream",
     "text": [
      "5.5\n",
      "2.8722813232690143\n",
      "5.5\n"
     ]
    }
   ],
   "source": [
    "arr = np.array([1, 2, 3, 4, 5,6,7,8,9,10])\n",
    "print((np.mean(arr)))\n",
    "print((np.std(arr)))\n",
    "print((np.median(arr)))"
   ]
  },
  {
   "cell_type": "code",
   "execution_count": 21,
   "metadata": {},
   "outputs": [
    {
     "name": "stdout",
     "output_type": "stream",
     "text": [
      "[False False  True False]\n"
     ]
    }
   ],
   "source": [
    "arr = np.array([1, 2, np.nan, 4])\n",
    "print(np.isnan(arr))"
   ]
  },
  {
   "cell_type": "markdown",
   "metadata": {},
   "source": [
    "<h1>Normalizing Array</h1>\n",
    "\n",
    "Normalizing an array means scaling its values to a specific range, usually to make data easier to compare or process. Common normalization techniques include:\n",
    "\n",
    "Min-Max Normalization:\n",
    "Scales values between 0 and 1 (or any custom range)."
   ]
  },
  {
   "cell_type": "code",
   "execution_count": 23,
   "metadata": {},
   "outputs": [
    {
     "name": "stdout",
     "output_type": "stream",
     "text": [
      "[0.   0.25 0.5  0.75 1.  ]\n"
     ]
    }
   ],
   "source": [
    "import numpy as np\n",
    "X = np.array([10, 20, 30, 40, 50])\n",
    "norm = (X-X.min())/(X.max() - X.min())\n",
    "print(norm)"
   ]
  },
  {
   "cell_type": "markdown",
   "metadata": {},
   "source": [
    "<h2>Problem Statement:</h2>\n",
    "Given a NumPy array, replace all values with the mean itself."
   ]
  },
  {
   "cell_type": "code",
   "execution_count": 41,
   "metadata": {},
   "outputs": [
    {
     "name": "stdout",
     "output_type": "stream",
     "text": [
      "[45 45 45 45 45 45 45]\n"
     ]
    }
   ],
   "source": [
    "import numpy as np\n",
    "\n",
    "arr = np.array([1, 2, 3, 100, 5, 6, 200])\n",
    "mean_value = np.mean(arr)\n",
    "\n",
    "for i in range(len(arr)):\n",
    "#range expects an integer value for the length of the iteration\n",
    "    arr[i] = mean_value\n",
    "print(arr)\n"
   ]
  },
  {
   "cell_type": "code",
   "execution_count": 42,
   "metadata": {},
   "outputs": [
    {
     "name": "stdout",
     "output_type": "stream",
     "text": [
      "[ 1  2  3 45  5  6 45]\n"
     ]
    }
   ],
   "source": [
    "import numpy as np\n",
    "arr = np.array([1, 2, 3, 100, 5, 6, 200])\n",
    "mean_value = np.mean(arr)\n",
    "\n",
    "for idx, value in enumerate(arr):\n",
    "    if value > mean_value:\n",
    "        arr[idx] = mean_value \n",
    "print(arr)\n"
   ]
  },
  {
   "cell_type": "markdown",
   "metadata": {},
   "source": [
    "<h2>Problem Statement:</h2>\n",
    "Given a NumPy array, replace all values greater than twice the mean with the mean itself."
   ]
  },
  {
   "cell_type": "code",
   "execution_count": 46,
   "metadata": {},
   "outputs": [
    {
     "name": "stdout",
     "output_type": "stream",
     "text": [
      "[ 1  2  3 45  5  6 45]\n"
     ]
    }
   ],
   "source": [
    "import numpy as np\n",
    "\n",
    "arr = np.array([1, 2, 3, 100, 5, 6, 200])\n",
    "mean_value = np.mean(arr)\n",
    "#define a threshold\n",
    "threshold = mean_value * 2\n",
    "arr[arr > threshold] = mean_value\n",
    "print(arr)"
   ]
  }
 ],
 "metadata": {
  "kernelspec": {
   "display_name": "base",
   "language": "python",
   "name": "python3"
  },
  "language_info": {
   "codemirror_mode": {
    "name": "ipython",
    "version": 3
   },
   "file_extension": ".py",
   "mimetype": "text/x-python",
   "name": "python",
   "nbconvert_exporter": "python",
   "pygments_lexer": "ipython3",
   "version": "3.12.7"
  }
 },
 "nbformat": 4,
 "nbformat_minor": 2
}
